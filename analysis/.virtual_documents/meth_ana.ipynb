import pandas





data_folder = '/Users/adrian/research/oskjuhlid/results/004_inference/'
data_file = 'data.site_proba.csv'

control_tags = ['inference_control_{}'.format(i+1) for i in range(3)] 
fto_tags = ['inference_fto_{}'.format(i+1) for i in range(3)]
print(control_tags)
print(fto_tags)





controldfs = []
for tag in control_tags:
    path = data_folder + tag + '/' + data_file
    print(path)
    df = pandas.read_csv(path, index_col=0)
    controldfs.append(df)

ftodfs = []
for tag in fto_tags:
    path = data_folder + tag + '/' + data_file
    print(path)
    df = pandas.read_csv(path, index_col=0)
    ftodfs.append(df)

df





def seeker(target):

    print('about to search for methylation hits for {}'.format(target))

    print('\t searching controls')
    for i in range(len(control_tags)):
        df = controldfs[i]
        print('\t\t about to search for methylation hits for {} in {} sites in {}'.format(target, df.shape[0], control_tags[i]))

        if target in df.index:
            particular = df.loc[target, :]
            hits = particular[particular['probability_modified'] > 0.8]
            print('\t\t found {} reasonable hits'.format(hits.shape[0]))
            if hits.shape[0] != 0:
                print(hits)
                print('\t\t Authors recommend a threshold of 0.9 to select m6A sites from the probability_modified column. Interpret accordingly.')
            print()
        else:
            print('\t\t {} not found in {}'.format(target, control_tags[i]))


    print('\t searching siFTO')
    for i in range(len(fto_tags)):
        df = ftodfs[i]
        print('\t\t about to search for methylation hits for {} in {} sites in {}'.format(target, df.shape[0], fto_tags[i]))


        if target in df.index:
            particular = df.loc[target, :]
            hits = particular[particular['probability_modified'] > 0.8]
            print('\t\t found {} reasonable hits'.format(hits.shape[0]))
            if hits.shape[0] != 0:
                print(hits)
                print('\t\t Authors recommend a threshold of 0.9 to select m6A sites from the probability_modified column. Interpret accordingly.')
            print()
        else:
            print('\t\t {} not found in {}'.format(target, fto_tags[i]))

    return None


# RNF168 is ENST00000318037.3
targets = ['ENST00000318037.3']

for target in targets:
    seeker(target)





# BRCA2 protein coding transcripts from https://www.ensembl.org/Homo_sapiens/Gene/Summary?g=ENSG00000139618;r=13:32315086-32400268


targets = ['ENST00000380152.8', 'ENST00000680887.1', 'ENST00000544455.6', 'ENST00000700202.2', 'ENST00000713680.1', 'ENST00000530893.7', 'ENST00000713678.1']		


for target in targets:
    seeker(target)





# BRCA1 protein coding transcripts from https://www.ensembl.org/Homo_sapiens/Gene/Summary?g=ENSG00000012048;r=17:43044295-43170245


targets = ['ENST00000644379.2',	
           'ENST00000471181.7',		
           'ENST00000357654.9',		
           'ENST00000618469.2', 
           'ENST00000494123.6',		
           'ENST00000470026.6',		
            'ENST00000713676.1',	
            'ENST00000461574.2',	
            'ENST00000476777.6',		
            'ENST00000489037.2',		
            'ENST00000477152.6',		
            'ENST00000634433.2',		
            'ENST00000473961.6',	
            'ENST00000652672.2',	
            'ENST00000493795.5',	
            'ENST00000497488.2',	
            'ENST00000478531.6',		
            'ENST00000491747.6',	
            'ENST00000352993.7',		
            'ENST00000484087.6',		
            'ENST00000644555.2',	
            'ENST00000493919.6',		
            'ENST00000468300.5',		
            'ENST00000700182.1',		
            'ENST00000591534.5',	
            'ENST00000586385.5',		
            'ENST00000591849.5']		


for target in targets:
    seeker(target)
