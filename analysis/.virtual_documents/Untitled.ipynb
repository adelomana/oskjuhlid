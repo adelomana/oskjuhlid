import pandas





data_folder = '/Users/adrian/research/oskjuhlid/results/004_inference/'
data_file = 'data.site_proba.csv'

control_tags = ['inference_control_{}'.format(i+1) for i in range(3)] 
fto_tags = ['inference_fto_{}'.format(i+1) for i in range(3)]
print(control_tags)
print(fto_tags)





controldfs = []
for tag in control_tags:
    path = data_folder + tag + '/' + data_file
    print(path)
    df = pandas.read_csv(path, index_col=0)
    controldfs.append(df)

ftodfs = []
for tag in fto_tags:
    path = data_folder + tag + '/' + data_file
    print(path)
    df = pandas.read_csv(path, index_col=0)
    ftodfs.append(df)

df





def seeker(target):

    print('about to search for methylation hits for {}'.format(target))

    print('\t searching controls')
    for i in range(len(control_tags)):
        df = controldfs[i]
        print('\t\t about to search for methylation hits for {} in {} sites in {}'.format(target, df.shape[0], control_tags[i]))
        
        particular = df.loc[target, :]
        hits = particular[particular['probability_modified'] > 0.8]
        print('\t\t found {} reasonable hits'.format(hits.shape[0]))
        if hits.shape[0] != 0:
            print(hits)
            print('\t\t Authors recommend a threshold of 0.9 to select m6A sites from the probability_modified column. Interpret accordingly.')
        print()


    print('\t searching siFTO')
    for i in range(len(fto_tags)):
        df = ftodfs[i]
        print('\t\t about to search for methylation hits for {} in {} sites in {}'.format(target, df.shape[0], fto_tags[i]))


        if target in df:
            particular = df.loc[target, :]
            hits = particular[particular['probability_modified'] > 0.8]
            print('\t\t found {} reasonable hits'.format(hits.shape[0]))
            if hits.shape[0] != 0:
                print(hits)
                print('\t\t Authors recommend a threshold of 0.9 to select m6A sites from the probability_modified column. Interpret accordingly.')
            print()
        else:
            print('\t\t {} not found in {}'.format(target, fto_tags[i]))

    return None


# RNF168 is ENST00000318037.3
targets = ['ENST00000318037.3']

for target in targets:
    seeker(target)























check BRCA1






